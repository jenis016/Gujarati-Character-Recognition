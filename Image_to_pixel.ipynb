{
 "cells": [
  {
   "cell_type": "code",
   "execution_count": null,
   "metadata": {},
   "outputs": [],
   "source": [
    "from PIL import Image, ImageOps\n",
    "import numpy as np\n",
    "import sys\n",
    "import os, cv2\n",
    "import csv\n",
    "import pandas as pd"
   ]
  },
  {
   "cell_type": "code",
   "execution_count": null,
   "metadata": {},
   "outputs": [],
   "source": [
    "def createFileList(myDir, format='.jpg'):\n",
    "    fileList = []\n",
    "    print(myDir)\n",
    "    for root, dirs, files in os.walk(myDir, topdown=False):\n",
    "        for name in files:\n",
    "            if name.endswith(format):\n",
    "                fullName = os.path.join(root, name)\n",
    "                fileList.append(fullName)\n",
    "    return fileList"
   ]
  },
  {
   "cell_type": "code",
   "execution_count": null,
   "metadata": {},
   "outputs": [],
   "source": [
    "columnNames = list()\n",
    "for i in range(12544):\n",
    "    pixel = 'p'\n",
    "    pixel += str(i)\n",
    "    columnNames.append(pixel)"
   ]
  },
  {
   "cell_type": "code",
   "execution_count": null,
   "metadata": {},
   "outputs": [],
   "source": [
    "l = os.listdir('images_folder_path')\n",
    "print(l)"
   ]
  },
  {
   "cell_type": "code",
   "execution_count": null,
   "metadata": {},
   "outputs": [],
   "source": [
    "dic = {val : idx for idx, val in enumerate(l)}\n",
    "print(dic)"
   ]
  },
  {
   "cell_type": "code",
   "execution_count": null,
   "metadata": {},
   "outputs": [],
   "source": [
    "train_data = pd.DataFrame(columns = columnNames)\n",
    "train_data.to_csv(\"train.csv\",index = False)\n",
    "label_count = list()\n",
    "for i in range(len(l)):\n",
    "    mydir='images_folder_path//'+l[i]\n",
    "    fileList = createFileList(mydir)\n",
    "    for file in fileList:\n",
    "        img_file = Image.open(file) # imgfile.show()\n",
    "        width, height = img_file.size\n",
    "        format = img_file.format\n",
    "        mode = img_file.mode\n",
    "        \n",
    "        label_count.append(dic[l[i]])\n",
    "        im_invert = ImageOps.invert(img_file)\n",
    "        size = (112,112)\n",
    "        new_image = img_file.resize(size)\n",
    "\n",
    "        img_grey = new_image.convert('L')\n",
    "        value = np.asarray(img_grey.getdata(), dtype=np.int).reshape((img_grey.size[1], img_grey.size[0]))\n",
    "        value = value.flatten()\n",
    "        with open(\"train.csv\", 'a', newline='') as f:\n",
    "            writer = csv.writer(f)\n",
    "            writer.writerow(value)"
   ]
  },
  {
   "cell_type": "code",
   "execution_count": null,
   "metadata": {},
   "outputs": [],
   "source": [
    "read_data = pd.read_csv('train.csv')\n",
    "read_data['Label'] = label_count\n",
    "print(read_data)\n",
    "\n",
    "#Write back dataframe to csv\n",
    "read_data.to_csv(\"training_set.csv\",index = False)\n",
    "print(train_data)"
   ]
  }
 ],
 "metadata": {
  "kernelspec": {
   "display_name": "Python 3",
   "language": "python",
   "name": "python3"
  },
  "language_info": {
   "codemirror_mode": {
    "name": "ipython",
    "version": 3
   },
   "file_extension": ".py",
   "mimetype": "text/x-python",
   "name": "python",
   "nbconvert_exporter": "python",
   "pygments_lexer": "ipython3",
   "version": "3.6.5"
  }
 },
 "nbformat": 4,
 "nbformat_minor": 4
}
